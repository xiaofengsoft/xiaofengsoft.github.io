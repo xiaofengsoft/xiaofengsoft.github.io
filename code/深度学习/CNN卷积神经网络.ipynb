{
 "cells": [
  {
   "cell_type": "markdown",
   "metadata": {},
   "source": [
    "## 图像处理"
   ]
  },
  {
   "cell_type": "code",
   "execution_count": 1,
   "metadata": {},
   "outputs": [
    {
     "name": "stdout",
     "output_type": "stream",
     "text": [
      "Downloading http://yann.lecun.com/exdb/mnist/train-images-idx3-ubyte.gz\n",
      "Failed to download (trying next):\n",
      "HTTP Error 403: Forbidden\n",
      "\n",
      "Downloading https://ossci-datasets.s3.amazonaws.com/mnist/train-images-idx3-ubyte.gz\n",
      "Downloading https://ossci-datasets.s3.amazonaws.com/mnist/train-images-idx3-ubyte.gz to ./data\\MNIST\\raw\\train-images-idx3-ubyte.gz\n"
     ]
    },
    {
     "name": "stderr",
     "output_type": "stream",
     "text": [
      "100.0%\n"
     ]
    },
    {
     "name": "stdout",
     "output_type": "stream",
     "text": [
      "Extracting ./data\\MNIST\\raw\\train-images-idx3-ubyte.gz to ./data\\MNIST\\raw\n",
      "\n",
      "Downloading http://yann.lecun.com/exdb/mnist/train-labels-idx1-ubyte.gz\n",
      "Failed to download (trying next):\n",
      "<urlopen error [SSL: UNEXPECTED_EOF_WHILE_READING] EOF occurred in violation of protocol (_ssl.c:1007)>\n",
      "\n",
      "Downloading https://ossci-datasets.s3.amazonaws.com/mnist/train-labels-idx1-ubyte.gz\n",
      "Downloading https://ossci-datasets.s3.amazonaws.com/mnist/train-labels-idx1-ubyte.gz to ./data\\MNIST\\raw\\train-labels-idx1-ubyte.gz\n"
     ]
    },
    {
     "name": "stderr",
     "output_type": "stream",
     "text": [
      "100.0%\n"
     ]
    },
    {
     "name": "stdout",
     "output_type": "stream",
     "text": [
      "Extracting ./data\\MNIST\\raw\\train-labels-idx1-ubyte.gz to ./data\\MNIST\\raw\n",
      "\n",
      "Downloading http://yann.lecun.com/exdb/mnist/t10k-images-idx3-ubyte.gz\n",
      "Failed to download (trying next):\n",
      "HTTP Error 403: Forbidden\n",
      "\n",
      "Downloading https://ossci-datasets.s3.amazonaws.com/mnist/t10k-images-idx3-ubyte.gz\n",
      "Downloading https://ossci-datasets.s3.amazonaws.com/mnist/t10k-images-idx3-ubyte.gz to ./data\\MNIST\\raw\\t10k-images-idx3-ubyte.gz\n"
     ]
    },
    {
     "name": "stderr",
     "output_type": "stream",
     "text": [
      "100.0%\n"
     ]
    },
    {
     "name": "stdout",
     "output_type": "stream",
     "text": [
      "Extracting ./data\\MNIST\\raw\\t10k-images-idx3-ubyte.gz to ./data\\MNIST\\raw\n",
      "\n",
      "Downloading http://yann.lecun.com/exdb/mnist/t10k-labels-idx1-ubyte.gz\n",
      "Failed to download (trying next):\n",
      "HTTP Error 403: Forbidden\n",
      "\n",
      "Downloading https://ossci-datasets.s3.amazonaws.com/mnist/t10k-labels-idx1-ubyte.gz\n",
      "Downloading https://ossci-datasets.s3.amazonaws.com/mnist/t10k-labels-idx1-ubyte.gz to ./data\\MNIST\\raw\\t10k-labels-idx1-ubyte.gz\n"
     ]
    },
    {
     "name": "stderr",
     "output_type": "stream",
     "text": [
      "100.0%\n"
     ]
    },
    {
     "name": "stdout",
     "output_type": "stream",
     "text": [
      "Extracting ./data\\MNIST\\raw\\t10k-labels-idx1-ubyte.gz to ./data\\MNIST\\raw\n",
      "\n",
      "Epoch [1/5], Step [100/938], Loss: 0.5910\n",
      "Epoch [1/5], Step [200/938], Loss: 0.1673\n",
      "Epoch [1/5], Step [300/938], Loss: 0.1178\n",
      "Epoch [1/5], Step [400/938], Loss: 0.1029\n",
      "Epoch [1/5], Step [500/938], Loss: 0.0890\n",
      "Epoch [1/5], Step [600/938], Loss: 0.0837\n",
      "Epoch [1/5], Step [700/938], Loss: 0.0608\n",
      "Epoch [1/5], Step [800/938], Loss: 0.0647\n",
      "Epoch [1/5], Step [900/938], Loss: 0.0670\n",
      "Epoch [2/5], Step [100/938], Loss: 0.0566\n",
      "Epoch [2/5], Step [200/938], Loss: 0.0459\n",
      "Epoch [2/5], Step [300/938], Loss: 0.0415\n",
      "Epoch [2/5], Step [400/938], Loss: 0.0539\n",
      "Epoch [2/5], Step [500/938], Loss: 0.0391\n",
      "Epoch [2/5], Step [600/938], Loss: 0.0441\n",
      "Epoch [2/5], Step [700/938], Loss: 0.0454\n",
      "Epoch [2/5], Step [800/938], Loss: 0.0420\n",
      "Epoch [2/5], Step [900/938], Loss: 0.0442\n",
      "Epoch [3/5], Step [100/938], Loss: 0.0323\n",
      "Epoch [3/5], Step [200/938], Loss: 0.0276\n",
      "Epoch [3/5], Step [300/938], Loss: 0.0313\n",
      "Epoch [3/5], Step [400/938], Loss: 0.0316\n",
      "Epoch [3/5], Step [500/938], Loss: 0.0291\n",
      "Epoch [3/5], Step [600/938], Loss: 0.0318\n",
      "Epoch [3/5], Step [700/938], Loss: 0.0295\n",
      "Epoch [3/5], Step [800/938], Loss: 0.0268\n",
      "Epoch [3/5], Step [900/938], Loss: 0.0368\n",
      "Epoch [4/5], Step [100/938], Loss: 0.0229\n",
      "Epoch [4/5], Step [200/938], Loss: 0.0244\n",
      "Epoch [4/5], Step [300/938], Loss: 0.0194\n",
      "Epoch [4/5], Step [400/938], Loss: 0.0204\n",
      "Epoch [4/5], Step [500/938], Loss: 0.0297\n",
      "Epoch [4/5], Step [600/938], Loss: 0.0176\n",
      "Epoch [4/5], Step [700/938], Loss: 0.0198\n",
      "Epoch [4/5], Step [800/938], Loss: 0.0315\n",
      "Epoch [4/5], Step [900/938], Loss: 0.0261\n",
      "Epoch [5/5], Step [100/938], Loss: 0.0170\n",
      "Epoch [5/5], Step [200/938], Loss: 0.0156\n",
      "Epoch [5/5], Step [300/938], Loss: 0.0147\n",
      "Epoch [5/5], Step [400/938], Loss: 0.0151\n",
      "Epoch [5/5], Step [500/938], Loss: 0.0170\n",
      "Epoch [5/5], Step [600/938], Loss: 0.0205\n",
      "Epoch [5/5], Step [700/938], Loss: 0.0166\n",
      "Epoch [5/5], Step [800/938], Loss: 0.0253\n",
      "Epoch [5/5], Step [900/938], Loss: 0.0216\n",
      "Test Accuracy: 99.00%\n"
     ]
    }
   ],
   "source": [
    "import torch\n",
    "import torch.nn as nn\n",
    "import torch.optim as optim\n",
    "import torch.nn.functional as F\n",
    "from torchvision import datasets, transforms\n",
    "from torch.utils.data import DataLoader"
   ]
  },
  {
   "cell_type": "markdown",
   "metadata": {},
   "source": [
    "### 定义卷积神经网络模型"
   ]
  },
  {
   "cell_type": "code",
   "execution_count": null,
   "metadata": {},
   "outputs": [],
   "source": [
    "class CNN(nn.Module):\n",
    "    def __init__(self):\n",
    "        super(CNN, self).__init__()\n",
    "        # 定义卷积层和全连接层\n",
    "        self.conv1 = nn.Conv2d(1, 32, kernel_size=3,\n",
    "                               stride=1, padding=1)  # 输入通道1，输出通道32\n",
    "        self.conv2 = nn.Conv2d(32, 64, kernel_size=3,\n",
    "                               stride=1, padding=1)  # 输入通道32，输出通道64\n",
    "        self.pool = nn.MaxPool2d(kernel_size=2, stride=2)  # 最大池化层\n",
    "        self.fc1 = nn.Linear(64 * 7 * 7, 128)  # 全连接层\n",
    "        self.fc2 = nn.Linear(128, 10)  # 输出层，10个类别\n",
    "\n",
    "    def forward(self, x):\n",
    "        # 前向传播\n",
    "        x = F.relu(self.conv1(x))  # 卷积 + ReLU\n",
    "        x = self.pool(x)  # 池化\n",
    "        x = F.relu(self.conv2(x))  # 卷积 + ReLU\n",
    "        x = self.pool(x)  # 池化\n",
    "        x = x.view(-1, 64 * 7 * 7)  # 展平\n",
    "        x = F.relu(self.fc1(x))  # 全连接 + ReLU\n",
    "        x = self.fc2(x)  # 输出层\n",
    "        return x"
   ]
  },
  {
   "cell_type": "markdown",
   "metadata": {},
   "source": [
    "### 加载MNIST数据集"
   ]
  },
  {
   "cell_type": "code",
   "execution_count": 2,
   "metadata": {},
   "outputs": [],
   "source": [
    "transform = transforms.Compose([\n",
    "    transforms.ToTensor(),  # 将图像转换为Tensor\n",
    "    transforms.Normalize((0.1307,), (0.3081,))  # 归一化\n",
    "])\n",
    "train_dataset = datasets.MNIST(\n",
    "    root='./data', train=True, download=True, transform=transform)\n",
    "test_dataset = datasets.MNIST(\n",
    "    root='./data', train=False, download=True, transform=transform)\n",
    "\n",
    "train_loader = DataLoader(train_dataset, batch_size=64, shuffle=True)\n",
    "test_loader = DataLoader(test_dataset, batch_size=64, shuffle=False)"
   ]
  },
  {
   "cell_type": "markdown",
   "metadata": {},
   "source": [
    "### 初始化模型、损失函数和优化器"
   ]
  },
  {
   "cell_type": "code",
   "execution_count": 3,
   "metadata": {},
   "outputs": [],
   "source": [
    "model = CNN()\n",
    "criterion = nn.CrossEntropyLoss()  # 交叉熵损失函数\n",
    "optimizer = optim.Adam(model.parameters(), lr=0.001)  # Adam优化器"
   ]
  },
  {
   "cell_type": "markdown",
   "metadata": {},
   "source": [
    "### 训练模型"
   ]
  },
  {
   "cell_type": "code",
   "execution_count": null,
   "metadata": {},
   "outputs": [
    {
     "name": "stdout",
     "output_type": "stream",
     "text": [
      "Epoch [1/5], Step [100/938], Loss: 0.0131\n",
      "Epoch [1/5], Step [200/938], Loss: 0.0115\n",
      "Epoch [1/5], Step [300/938], Loss: 0.0088\n",
      "Epoch [1/5], Step [400/938], Loss: 0.0122\n",
      "Epoch [1/5], Step [500/938], Loss: 0.0143\n",
      "Epoch [1/5], Step [600/938], Loss: 0.0178\n",
      "Epoch [1/5], Step [700/938], Loss: 0.0118\n",
      "Epoch [1/5], Step [800/938], Loss: 0.0143\n",
      "Epoch [1/5], Step [900/938], Loss: 0.0116\n",
      "Epoch [2/5], Step [100/938], Loss: 0.0059\n",
      "Epoch [2/5], Step [200/938], Loss: 0.0127\n",
      "Epoch [2/5], Step [300/938], Loss: 0.0091\n",
      "Epoch [2/5], Step [400/938], Loss: 0.0087\n",
      "Epoch [2/5], Step [500/938], Loss: 0.0108\n",
      "Epoch [2/5], Step [600/938], Loss: 0.0119\n",
      "Epoch [2/5], Step [700/938], Loss: 0.0150\n",
      "Epoch [2/5], Step [800/938], Loss: 0.0114\n",
      "Epoch [2/5], Step [900/938], Loss: 0.0208\n",
      "Epoch [3/5], Step [100/938], Loss: 0.0080\n",
      "Epoch [3/5], Step [200/938], Loss: 0.0034\n",
      "Epoch [3/5], Step [300/938], Loss: 0.0044\n",
      "Epoch [3/5], Step [400/938], Loss: 0.0091\n",
      "Epoch [3/5], Step [500/938], Loss: 0.0079\n",
      "Epoch [3/5], Step [600/938], Loss: 0.0076\n",
      "Epoch [3/5], Step [700/938], Loss: 0.0060\n",
      "Epoch [3/5], Step [800/938], Loss: 0.0059\n",
      "Epoch [3/5], Step [900/938], Loss: 0.0091\n",
      "Epoch [4/5], Step [100/938], Loss: 0.0038\n",
      "Epoch [4/5], Step [200/938], Loss: 0.0042\n",
      "Epoch [4/5], Step [300/938], Loss: 0.0069\n",
      "Epoch [4/5], Step [400/938], Loss: 0.0084\n",
      "Epoch [4/5], Step [500/938], Loss: 0.0072\n",
      "Epoch [4/5], Step [600/938], Loss: 0.0130\n",
      "Epoch [4/5], Step [700/938], Loss: 0.0120\n",
      "Epoch [4/5], Step [800/938], Loss: 0.0079\n",
      "Epoch [4/5], Step [900/938], Loss: 0.0089\n",
      "Epoch [5/5], Step [100/938], Loss: 0.0082\n",
      "Epoch [5/5], Step [200/938], Loss: 0.0113\n",
      "Epoch [5/5], Step [300/938], Loss: 0.0045\n",
      "Epoch [5/5], Step [400/938], Loss: 0.0051\n",
      "Epoch [5/5], Step [500/938], Loss: 0.0072\n",
      "Epoch [5/5], Step [600/938], Loss: 0.0099\n",
      "Epoch [5/5], Step [700/938], Loss: 0.0061\n",
      "Epoch [5/5], Step [800/938], Loss: 0.0083\n",
      "Epoch [5/5], Step [900/938], Loss: 0.0096\n"
     ]
    }
   ],
   "source": [
    "import matplotlib.pyplot as plt\n",
    "\n",
    "epochs = 5\n",
    "losses = []\n",
    "for epoch in range(epochs):\n",
    "    running_loss = 0.0\n",
    "    for i, (inputs, labels) in enumerate(train_loader):\n",
    "        optimizer.zero_grad()  # 梯度清零\n",
    "        outputs = model(inputs)  # 前向传播\n",
    "        loss = criterion(outputs, labels)  # 计算损失\n",
    "        loss.backward()  # 反向传播\n",
    "        optimizer.step()  # 更新参数\n",
    "\n",
    "        running_loss += loss.item()\n",
    "        if i % 10 == 99:  # 每100个batch打印一次损失\n",
    "            print(\n",
    "                f'Epoch [{epoch + 1}/{epochs}], Step [{i + 1}/{len(train_loader)}], Loss: {running_loss / 100:.4f}')\n",
    "            losses.append(running_loss / 100)\n",
    "            running_loss = 0.0\n",
    "\n",
    "\n",
    "plt.plot(losses)"
   ]
  },
  {
   "cell_type": "markdown",
   "metadata": {},
   "source": [
    "### 测试模型"
   ]
  },
  {
   "cell_type": "code",
   "execution_count": null,
   "metadata": {},
   "outputs": [],
   "source": [
    "model.eval()  # 设置为评估模式\n",
    "correct = 0\n",
    "total = 0\n",
    "with torch.no_grad():  # 不计算梯度\n",
    "    for inputs, labels in test_loader:\n",
    "        outputs = model(inputs)\n",
    "        _, predicted = torch.max(outputs.data, 1)  # 获取预测结果\n",
    "        total += labels.size(0)\n",
    "        correct += (predicted == labels).sum().item()\n",
    "    print(f'Test Accuracy: {100 * correct / total:.2f}%')"
   ]
  },
  {
   "cell_type": "code",
   "execution_count": null,
   "metadata": {},
   "outputs": [],
   "source": []
  }
 ],
 "metadata": {
  "kernelspec": {
   "display_name": "Pytorch",
   "language": "python",
   "name": "python3"
  },
  "language_info": {
   "codemirror_mode": {
    "name": "ipython",
    "version": 3
   },
   "file_extension": ".py",
   "mimetype": "text/x-python",
   "name": "python",
   "nbconvert_exporter": "python",
   "pygments_lexer": "ipython3",
   "version": "3.10.16"
  }
 },
 "nbformat": 4,
 "nbformat_minor": 2
}
