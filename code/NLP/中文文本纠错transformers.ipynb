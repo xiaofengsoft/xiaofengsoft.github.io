{
 "cells": [
  {
   "cell_type": "markdown",
   "metadata": {},
   "source": [
    "## 导库"
   ]
  },
  {
   "cell_type": "code",
   "execution_count": 1,
   "metadata": {},
   "outputs": [
    {
     "name": "stderr",
     "output_type": "stream",
     "text": [
      "d:\\Python\\CondaEnvs\\Pytorch\\lib\\site-packages\\tqdm\\auto.py:21: TqdmWarning: IProgress not found. Please update jupyter and ipywidgets. See https://ipywidgets.readthedocs.io/en/stable/user_install.html\n",
      "  from .autonotebook import tqdm as notebook_tqdm\n"
     ]
    }
   ],
   "source": [
    "from datasets import load_dataset\n",
    "import torch\n",
    "from transformers import BertTokenizer, BertForMaskedLM, Trainer, TrainingArguments"
   ]
  },
  {
   "cell_type": "markdown",
   "metadata": {},
   "source": [
    "## 加载数据集"
   ]
  },
  {
   "cell_type": "code",
   "execution_count": 2,
   "metadata": {},
   "outputs": [],
   "source": [
    "test_file = \"./data/MuCGEC_test_filtered.txt\"\n",
    "train_file = \"./data/MuCGEC_dev_filtered.txt\""
   ]
  },
  {
   "cell_type": "code",
   "execution_count": 3,
   "metadata": {},
   "outputs": [
    {
     "name": "stderr",
     "output_type": "stream",
     "text": [
      "Generating train split: 1617 examples [00:00, 103391.76 examples/s]\n",
      "Generating validation split: 6000 examples [00:00, 236234.49 examples/s]\n"
     ]
    }
   ],
   "source": [
    "dataset = load_dataset(\"csv\", data_files={\n",
    "                       \"train\": train_file, \"validation\": test_file}, delimiter=\"\\t\", column_names=[\"input\", \"target\"])"
   ]
  },
  {
   "cell_type": "markdown",
   "metadata": {},
   "source": [
    "## 预训练模型"
   ]
  },
  {
   "cell_type": "code",
   "execution_count": 5,
   "metadata": {},
   "outputs": [
    {
     "name": "stderr",
     "output_type": "stream",
     "text": [
      "Some weights of the model checkpoint at bert-base-chinese were not used when initializing BertForMaskedLM: ['bert.pooler.dense.bias', 'bert.pooler.dense.weight', 'cls.seq_relationship.bias', 'cls.seq_relationship.weight']\n",
      "- This IS expected if you are initializing BertForMaskedLM from the checkpoint of a model trained on another task or with another architecture (e.g. initializing a BertForSequenceClassification model from a BertForPreTraining model).\n",
      "- This IS NOT expected if you are initializing BertForMaskedLM from the checkpoint of a model that you expect to be exactly identical (initializing a BertForSequenceClassification model from a BertForSequenceClassification model).\n"
     ]
    }
   ],
   "source": [
    "# 加载预训练的中文 BERT 模型和分词器\n",
    "model_name = \"bert-base-chinese\"\n",
    "tokenizer = BertTokenizer.from_pretrained(model_name)\n",
    "model = BertForMaskedLM.from_pretrained(model_name)"
   ]
  },
  {
   "cell_type": "markdown",
   "metadata": {},
   "source": [
    "### 预处理文本数据"
   ]
  },
  {
   "cell_type": "code",
   "execution_count": 6,
   "metadata": {},
   "outputs": [
    {
     "name": "stderr",
     "output_type": "stream",
     "text": [
      "Map: 100%|██████████| 1617/1617 [00:00<00:00, 1790.30 examples/s]\n",
      "Map: 100%|██████████| 6000/6000 [00:01<00:00, 3308.42 examples/s]\n"
     ]
    }
   ],
   "source": [
    "def preprocess_function(examples):\n",
    "    # Ensure inputs are strings and handle potential None values\n",
    "    input_texts = [\n",
    "        str(text) if text is not None else \"\" for text in examples[\"input\"]]\n",
    "    target_texts = [\n",
    "        str(text) if text is not None else \"\" for text in examples[\"target\"]]\n",
    "\n",
    "    model_inputs = tokenizer(input_texts, max_length=128,\n",
    "                             truncation=True, padding=\"max_length\")\n",
    "\n",
    "    # 将目标文本作为标签\n",
    "    labels = tokenizer(target_texts, max_length=128,\n",
    "                       truncation=True, padding=\"max_length\")[\"input_ids\"]\n",
    "    model_inputs[\"labels\"] = labels\n",
    "    return model_inputs\n",
    "\n",
    "\n",
    "# 应用预处理\n",
    "tokenized_datasets = dataset.map(preprocess_function, batched=True)"
   ]
  },
  {
   "cell_type": "markdown",
   "metadata": {},
   "source": [
    "## 训练"
   ]
  },
  {
   "cell_type": "code",
   "execution_count": 7,
   "metadata": {},
   "outputs": [
    {
     "name": "stderr",
     "output_type": "stream",
     "text": [
      "d:\\Python\\CondaEnvs\\Pytorch\\lib\\site-packages\\transformers\\training_args.py:1594: FutureWarning: `evaluation_strategy` is deprecated and will be removed in version 4.46 of 🤗 Transformers. Use `eval_strategy` instead\n",
      "  warnings.warn(\n"
     ]
    },
    {
     "name": "stdout",
     "output_type": "stream",
     "text": [
      "[2025-02-25 12:03:19,481] [INFO] [real_accelerator.py:222:get_accelerator] Setting ds_accelerator to cuda (auto detect)\n"
     ]
    },
    {
     "name": "stderr",
     "output_type": "stream",
     "text": [
      "W0225 12:03:20.205000 30352 torch\\distributed\\elastic\\multiprocessing\\redirects.py:27] NOTE: Redirects are currently not supported in Windows or MacOs.\n",
      "d:\\Python\\CondaEnvs\\Pytorch\\lib\\site-packages\\transformers\\models\\bert\\modeling_bert.py:440: UserWarning: 1Torch was not compiled with flash attention. (Triggered internally at C:\\cb\\pytorch_1000000000000\\work\\aten\\src\\ATen\\native\\transformers\\cuda\\sdp_utils.cpp:455.)\n",
      "  attn_output = torch.nn.functional.scaled_dot_product_attention(\n"
     ]
    },
    {
     "data": {
      "text/html": [
       "\n",
       "    <div>\n",
       "      \n",
       "      <progress value='609' max='609' style='width:300px; height:20px; vertical-align: middle;'></progress>\n",
       "      [609/609 02:54, Epoch 3/3]\n",
       "    </div>\n",
       "    <table border=\"1\" class=\"dataframe\">\n",
       "  <thead>\n",
       " <tr style=\"text-align: left;\">\n",
       "      <th>Epoch</th>\n",
       "      <th>Training Loss</th>\n",
       "      <th>Validation Loss</th>\n",
       "    </tr>\n",
       "  </thead>\n",
       "  <tbody>\n",
       "    <tr>\n",
       "      <td>1</td>\n",
       "      <td>No log</td>\n",
       "      <td>4.748908</td>\n",
       "    </tr>\n",
       "    <tr>\n",
       "      <td>2</td>\n",
       "      <td>No log</td>\n",
       "      <td>4.897996</td>\n",
       "    </tr>\n",
       "    <tr>\n",
       "      <td>3</td>\n",
       "      <td>1.439100</td>\n",
       "      <td>4.912220</td>\n",
       "    </tr>\n",
       "  </tbody>\n",
       "</table><p>"
      ],
      "text/plain": [
       "<IPython.core.display.HTML object>"
      ]
     },
     "metadata": {},
     "output_type": "display_data"
    },
    {
     "data": {
      "text/plain": [
       "TrainOutput(global_step=609, training_loss=1.3478691339101305, metrics={'train_runtime': 174.4459, 'train_samples_per_second': 27.808, 'train_steps_per_second': 3.491, 'total_flos': 319166638737408.0, 'train_loss': 1.3478691339101305, 'epoch': 3.0})"
      ]
     },
     "execution_count": 7,
     "metadata": {},
     "output_type": "execute_result"
    }
   ],
   "source": [
    "# 定义训练参数\n",
    "training_args = TrainingArguments(\n",
    "    output_dir=\"./results\",\n",
    "    evaluation_strategy=\"epoch\",\n",
    "    learning_rate=2e-5,\n",
    "    per_device_train_batch_size=8,\n",
    "    per_device_eval_batch_size=8,\n",
    "    num_train_epochs=3,\n",
    "    weight_decay=0.01,\n",
    "    save_total_limit=2\n",
    ")\n",
    "\n",
    "# 定义 Trainer\n",
    "trainer = Trainer(\n",
    "    model=model,\n",
    "    args=training_args,\n",
    "    train_dataset=tokenized_datasets[\"train\"],\n",
    "    eval_dataset=tokenized_datasets[\"validation\"],\n",
    "\n",
    ")\n",
    "\n",
    "# 开始训练\n",
    "trainer.train()"
   ]
  },
  {
   "cell_type": "markdown",
   "metadata": {},
   "source": [
    "## 预测"
   ]
  },
  {
   "cell_type": "code",
   "execution_count": 8,
   "metadata": {},
   "outputs": [],
   "source": [
    "def correct_text(text, model, tokenizer, max_length=128):\n",
    "    # 将模型设置为评估模式\n",
    "    model.eval()\n",
    "\n",
    "    # 将输入文本转换为模型输入格式\n",
    "    inputs = tokenizer(text, return_tensors=\"pt\",\n",
    "                       max_length=max_length, truncation=True, padding=True)\n",
    "\n",
    "    # 将输入数据移动到与模型相同的设备\n",
    "    device = next(model.parameters()).device  # 获取模型所在的设备\n",
    "    inputs = {key: value.to(device)\n",
    "              for key, value in inputs.items()}  # 将输入数据移动到相同设备\n",
    "\n",
    "    # 使用模型预测\n",
    "    with torch.no_grad():\n",
    "        outputs = model(**inputs)\n",
    "        logits = outputs.logits  # [batch_size, sequence_length, vocab_size]\n",
    "\n",
    "    # 解码预测结果\n",
    "    predicted_token_ids = logits.argmax(dim=-1)\n",
    "\n",
    "    corrected_text = tokenizer.decode(\n",
    "        predicted_token_ids[0], skip_special_tokens=True)\n",
    "\n",
    "    return corrected_text"
   ]
  },
  {
   "cell_type": "code",
   "execution_count": 9,
   "metadata": {},
   "outputs": [
    {
     "name": "stdout",
     "output_type": "stream",
     "text": [
      "原始文本: 总得来说，对孩子的教育父母有第一责任的\n",
      "纠错后文本: 总 的 来 说 ， 对 孩 子 的 教 育 父 母 有 第 一 责 任 任\n"
     ]
    }
   ],
   "source": [
    "# 示例输入\n",
    "text = \"总得来说，对孩子的教育父母有第一责任的\"\n",
    "corrected_text = correct_text(text, model, tokenizer)\n",
    "print(f\"原始文本: {text}\")\n",
    "print(f\"纠错后文本: {corrected_text}\")"
   ]
  },
  {
   "cell_type": "code",
   "execution_count": 10,
   "metadata": {},
   "outputs": [
    {
     "name": "stdout",
     "output_type": "stream",
     "text": [
      "共有 6000 行文本\n",
      "打印 60 轮\n",
      "第 0 轮处理\n",
      "第 0 轮处理\n",
      "第 0 轮处理\n",
      "第 0 轮处理\n",
      "第 0 轮处理\n",
      "第 0 轮处理\n",
      "第 0 轮处理\n",
      "第 0 轮处理\n",
      "第 0 轮处理\n",
      "第 0 轮处理\n",
      "第 0 轮处理\n",
      "第 0 轮处理\n",
      "第 0 轮处理\n",
      "第 0 轮处理\n",
      "第 0 轮处理\n",
      "第 0 轮处理\n",
      "第 0 轮处理\n",
      "第 0 轮处理\n",
      "第 0 轮处理\n",
      "第 0 轮处理\n",
      "第 0 轮处理\n",
      "第 0 轮处理\n",
      "第 0 轮处理\n",
      "第 0 轮处理\n",
      "第 0 轮处理\n",
      "第 0 轮处理\n",
      "第 0 轮处理\n",
      "第 0 轮处理\n",
      "第 0 轮处理\n",
      "第 0 轮处理\n",
      "第 0 轮处理\n",
      "第 0 轮处理\n",
      "第 0 轮处理\n",
      "第 0 轮处理\n",
      "第 0 轮处理\n",
      "第 0 轮处理\n",
      "第 0 轮处理\n",
      "第 0 轮处理\n",
      "第 0 轮处理\n",
      "第 0 轮处理\n",
      "第 0 轮处理\n",
      "第 0 轮处理\n",
      "第 0 轮处理\n",
      "第 0 轮处理\n",
      "第 0 轮处理\n",
      "第 0 轮处理\n",
      "第 0 轮处理\n",
      "第 0 轮处理\n",
      "第 0 轮处理\n",
      "第 0 轮处理\n",
      "第 0 轮处理\n",
      "第 0 轮处理\n",
      "第 0 轮处理\n",
      "第 0 轮处理\n",
      "第 0 轮处理\n",
      "第 0 轮处理\n",
      "第 0 轮处理\n",
      "第 0 轮处理\n",
      "第 0 轮处理\n",
      "第 0 轮处理\n"
     ]
    }
   ],
   "source": [
    "print_average = 100\n",
    "with open(test_file, \"r\", encoding=\"utf-8\") as f:\n",
    "    lines = f.readlines()\n",
    "    lines = [line.strip() for line in lines]\n",
    "    total_lines = len(lines)\n",
    "    print(f\"共有 {total_lines} 行文本\")\n",
    "    print(f\"打印 {total_lines // print_average} 轮\")\n",
    "\n",
    "    with open(\"./data/results.txt\", \"w\", encoding=\"utf-8\") as f:\n",
    "        for i, line in enumerate(lines):\n",
    "            if i % print_average == 0:\n",
    "                print(f\"第 {i//total_lines} 轮处理\")\n",
    "            corrected_text = correct_text(\n",
    "                line, model, tokenizer).replace(\" \", '')\n",
    "            f.write(corrected_text + \"\\n\")"
   ]
  },
  {
   "cell_type": "code",
   "execution_count": null,
   "metadata": {},
   "outputs": [],
   "source": []
  }
 ],
 "metadata": {
  "kernelspec": {
   "display_name": "Pytorch",
   "language": "python",
   "name": "python3"
  },
  "language_info": {
   "codemirror_mode": {
    "name": "ipython",
    "version": 3
   },
   "file_extension": ".py",
   "mimetype": "text/x-python",
   "name": "python",
   "nbconvert_exporter": "python",
   "pygments_lexer": "ipython3",
   "version": "3.10.16"
  }
 },
 "nbformat": 4,
 "nbformat_minor": 2
}
