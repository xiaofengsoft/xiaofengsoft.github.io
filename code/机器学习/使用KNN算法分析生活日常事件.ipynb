{
 "cells": [
  {
   "cell_type": "markdown",
   "metadata": {},
   "source": [
    "创建数据集"
   ]
  },
  {
   "cell_type": "code",
   "execution_count": 5,
   "metadata": {},
   "outputs": [
    {
     "data": {
      "text/plain": [
       "(array([[20,  3],\n",
       "        [15,  5],\n",
       "        [18,  1],\n",
       "        [ 5, 17],\n",
       "        [ 2, 15],\n",
       "        [ 3, 20]]),\n",
       " ['服务策略', '服务策略', '服务策略', '平台策略', '平台策略', '平台策略'],\n",
       " array([[ 4, 17]]))"
      ]
     },
     "execution_count": 5,
     "metadata": {},
     "output_type": "execute_result"
    }
   ],
   "source": [
    "from numpy import *\n",
    "train_data = array( [[20,3 ],[15,5],[18,1],[5,17],[2,15],[3,20]])\n",
    "train_label = [\"服务策略\",\"服务策略\",\"服务策略\",\"平台策略\",\"平台策略\",\"平台策略\"]\n",
    "test_data = array([[4, 17]])\n",
    "train_data, train_label, test_data"
   ]
  },
  {
   "cell_type": "markdown",
   "metadata": {},
   "source": [
    "绘制图像"
   ]
  },
  {
   "cell_type": "code",
   "execution_count": 6,
   "metadata": {},
   "outputs": [
    {
     "data": {
      "image/png": "[encoded data removed]",
      "text/plain": [
       "<Figure size 640x480 with 1 Axes>"
      ]
     },
     "metadata": {},
     "output_type": "display_data"
    }
   ],
   "source": [
    "import matplotlib.pyplot as pyplot\n",
    "x=[item[0] for item in train_data[:3]]\n",
    "y=[item[1] for item in train_data[:3]]\n",
    "pyplot.scatter(x,y,s=30,c=\"r\",marker=\"o\")\n",
    "x=[item[0] for item in train_data[3:6]]\n",
    "y=[item[1] for item in train_data[3:6]]\n",
    "pyplot.scatter(x,y,s=100,c=\"b\",marker=\"x\")\n",
    "pyplot.show()"
   ]
  },
  {
   "cell_type": "markdown",
   "metadata": {},
   "source": [
    "求测试数据与每一个训练数据的距离"
   ]
  },
  {
   "cell_type": "code",
   "execution_count": 7,
   "metadata": {},
   "outputs": [
    {
     "data": {
      "text/plain": [
       "array([[ 4, 17],\n",
       "       [ 4, 17],\n",
       "       [ 4, 17],\n",
       "       [ 4, 17],\n",
       "       [ 4, 17],\n",
       "       [ 4, 17]])"
      ]
     },
     "execution_count": 7,
     "metadata": {},
     "output_type": "execute_result"
    }
   ],
   "source": [
    "test_data_tile = tile(test_data, (train_data.shape[0], 1))\n",
    "test_data_tile"
   ]
  },
  {
   "cell_type": "code",
   "execution_count": 8,
   "metadata": {},
   "outputs": [
    {
     "data": {
      "text/plain": [
       "array([21.26029163, 16.2788206 , 21.26029163,  1.        ,  2.82842712,\n",
       "        3.16227766])"
      ]
     },
     "execution_count": 8,
     "metadata": {},
     "output_type": "execute_result"
    }
   ],
   "source": [
    "distances = ((test_data_tile - train_data)**2).sum(axis=1)**0.5\n",
    "distances"
   ]
  },
  {
   "cell_type": "markdown",
   "metadata": {},
   "source": [
    "取前k=3个距离最小的训练数据的标签,并匹配最多次数的标签"
   ]
  },
  {
   "cell_type": "code",
   "execution_count": 9,
   "metadata": {},
   "outputs": [
    {
     "data": {
      "text/plain": [
       "'平台策略'"
      ]
     },
     "execution_count": 9,
     "metadata": {},
     "output_type": "execute_result"
    }
   ],
   "source": [
    "import operator\n",
    "sorted_distances = distances.argsort()\n",
    "class_count = {}\n",
    "for i in range(3):\n",
    "    class_count[train_label[sorted_distances[i]]] = class_count.get(\n",
    "        train_label[sorted_distances[i]], 0)+1\n",
    "sorted_class_count = sorted(\n",
    "    class_count.items(), key=operator.itemgetter(1), reverse=True\n",
    ")\n",
    "sorted_class_count[0][0]"
   ]
  }
 ],
 "metadata": {
  "kernelspec": {
   "display_name": "DataAnalysis",
   "language": "python",
   "name": "python3"
  },
  "language_info": {
   "codemirror_mode": {
    "name": "ipython",
    "version": 3
   },
   "file_extension": ".py",
   "mimetype": "text/x-python",
   "name": "python",
   "nbconvert_exporter": "python",
   "pygments_lexer": "ipython3",
   "version": "3.9.20"
  }
 },
 "nbformat": 4,
 "nbformat_minor": 2
}
